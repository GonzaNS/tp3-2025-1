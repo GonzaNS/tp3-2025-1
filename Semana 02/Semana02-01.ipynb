{
 "cells": [
  {
   "cell_type": "markdown",
   "id": "84578d2a-b6d4-4980-a757-cf063dcffc3c",
   "metadata": {},
   "source": [
    "# Semana02\n",
    "Ronaldo Yoel Gonza Morales"
   ]
  },
  {
   "cell_type": "markdown",
   "id": "1fcd41c8-d74c-4c7b-b5f7-43a6a4521f60",
   "metadata": {},
   "source": [
    "# Temas\n",
    "1. Coleccion de datos\n",
    "2. Estructuras Decisivas y Estructuras Repetitivas\n",
    "3. Clases y Objetos\n",
    "4. Funciones"
   ]
  },
  {
   "cell_type": "markdown",
   "id": "74e0ba00-f3bc-4f0c-97a0-781bdd4fbca1",
   "metadata": {},
   "source": [
    "# 1. Coleccion de datos"
   ]
  },
  {
   "cell_type": "code",
   "execution_count": 11,
   "id": "473af06b-4365-4bc3-bc45-525e1ff31270",
   "metadata": {},
   "outputs": [
    {
     "name": "stdout",
     "output_type": "stream",
     "text": [
      "['ALALUNA', 'AVILA', 'CABANILLAS', 'CAMARGO']\n"
     ]
    }
   ],
   "source": [
    "# 1.1 Listas\n",
    "# Es una coleccion de elementos \n",
    "# \n",
    "aula = ['ALALUNA','AVILA','CABANILLAS','CAMARGO']\n",
    "print(aula)"
   ]
  },
  {
   "cell_type": "code",
   "execution_count": 15,
   "id": "5308c8d3-89a0-4cdf-a2e4-f52eb18348f5",
   "metadata": {},
   "outputs": [
    {
     "name": "stdout",
     "output_type": "stream",
     "text": [
      "AVILA\n"
     ]
    }
   ],
   "source": [
    "# Podemos extraer elementos por su posición\n",
    "print(aula[1])"
   ]
  },
  {
   "cell_type": "code",
   "execution_count": 19,
   "id": "9a565c11-cff9-4261-afcf-213ed49b3593",
   "metadata": {},
   "outputs": [
    {
     "data": {
      "text/plain": [
       "['ALALUNA', 'GONZA', 'CABANILLAS', 'CAMARGO']"
      ]
     },
     "execution_count": 19,
     "metadata": {},
     "output_type": "execute_result"
    }
   ],
   "source": [
    "# Para asignar un valor a una posicion de la lista\n",
    "aula[1] = \"GONZA\"\n",
    "aula"
   ]
  },
  {
   "cell_type": "code",
   "execution_count": null,
   "id": "c9dc3c99-2d99-4e77-b2d8-70b84d8d6a35",
   "metadata": {},
   "outputs": [],
   "source": []
  },
  {
   "cell_type": "code",
   "execution_count": 21,
   "id": "53207be1-9d66-4c02-b308-7b473a9fd6ca",
   "metadata": {},
   "outputs": [
    {
     "data": {
      "text/plain": [
       "['ALALUNA', 'GONZA', 'CABANILLAS', 'CAMARGO', 'Hermitaño', 'Gomez']"
      ]
     },
     "execution_count": 21,
     "metadata": {},
     "output_type": "execute_result"
    }
   ],
   "source": [
    "# Para agregar un elemento utilizamos APPEND\n",
    "aula.append(\"Hermitaño\")\n",
    "aula.append(\"Gomez\")\n",
    "aula"
   ]
  },
  {
   "cell_type": "code",
   "execution_count": 23,
   "id": "28d1d68f-354a-4115-9688-f698367f4d43",
   "metadata": {},
   "outputs": [
    {
     "data": {
      "text/plain": [
       "['GONZA', 'CABANILLAS', 'CAMARGO', 'Hermitaño', 'Gomez']"
      ]
     },
     "execution_count": 23,
     "metadata": {},
     "output_type": "execute_result"
    }
   ],
   "source": [
    "# Para eliminar elementos utilizamos remove[]\n",
    "aula.remove(\"ALALUNA\")\n",
    "aula"
   ]
  },
  {
   "cell_type": "code",
   "execution_count": null,
   "id": "3f0a5e67-c3f0-4eb4-bafb-0f7184709bfa",
   "metadata": {},
   "outputs": [],
   "source": []
  }
 ],
 "metadata": {
  "kernelspec": {
   "display_name": "Python [conda env:base] *",
   "language": "python",
   "name": "conda-base-py"
  },
  "language_info": {
   "codemirror_mode": {
    "name": "ipython",
    "version": 3
   },
   "file_extension": ".py",
   "mimetype": "text/x-python",
   "name": "python",
   "nbconvert_exporter": "python",
   "pygments_lexer": "ipython3",
   "version": "3.12.7"
  }
 },
 "nbformat": 4,
 "nbformat_minor": 5
}
