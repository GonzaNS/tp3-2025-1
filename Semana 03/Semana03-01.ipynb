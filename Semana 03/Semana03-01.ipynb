{
 "cells": [
  {
   "cell_type": "markdown",
   "id": "6d9dc233-1502-4ac8-ba95-2c24bd55af28",
   "metadata": {},
   "source": [
    "# Semana 03\n",
    "\n",
    "Ronaldo Yoel Gonza Morales\n"
   ]
  },
  {
   "cell_type": "markdown",
   "id": "07486b53-185c-4281-a050-6290e3bdaeff",
   "metadata": {},
   "source": [
    "# Temas\n",
    "1. Colección de datos\n",
    "2. Estructuras de datos Decisivas y Repetitivas\n",
    "3. Clases y Objetos\n",
    "4. Funciones"
   ]
  },
  {
   "cell_type": "markdown",
   "id": "c2569f35-4d1e-4128-80da-cb92959aa723",
   "metadata": {},
   "source": [
    "# 1. Colecciones"
   ]
  },
  {
   "cell_type": "code",
   "execution_count": 9,
   "id": "f83ddfe1-400f-49b3-8a51-d583e1ef279d",
   "metadata": {},
   "outputs": [
    {
     "name": "stdout",
     "output_type": "stream",
     "text": [
      "['Bernaloa', 'Chipana', 'Gomez', 'Navarro']\n"
     ]
    }
   ],
   "source": [
    "# 1.1 Listas \n",
    "# Es una colección de elementos que puede ser ordenada, modificada,etc...\n",
    "# Se identifica por los corchetes\n",
    "# Ejemplos :\n",
    "aula = ['Bernaloa', 'Chipana', 'Gomez', 'Navarro']\n",
    "print(aula)"
   ]
  },
  {
   "cell_type": "code",
   "execution_count": 15,
   "id": "94bd6596-a261-4b94-bff2-6f1fad529088",
   "metadata": {},
   "outputs": [
    {
     "data": {
      "text/plain": [
       "['Bernaloa', 'Chipana', 'Gomez', 'Navarro']"
      ]
     },
     "execution_count": 15,
     "metadata": {},
     "output_type": "execute_result"
    }
   ],
   "source": [
    "# Tambien se puede impromir con solo mencionar la lista\n",
    "aula\n"
   ]
  },
  {
   "cell_type": "code",
   "execution_count": 23,
   "id": "f4b50956-dd04-4d3d-bb83-a0a0653bef1b",
   "metadata": {},
   "outputs": [
    {
     "name": "stdout",
     "output_type": "stream",
     "text": [
      "Bernaloa\n",
      "Chipana\n"
     ]
    }
   ],
   "source": [
    "# Podemos extraer cada elementos por su posición\n",
    "print(aula[0])\n",
    "print(aula[1])"
   ]
  },
  {
   "cell_type": "code",
   "execution_count": 27,
   "id": "28007252-9b25-4ca7-adbe-958460fca325",
   "metadata": {},
   "outputs": [
    {
     "name": "stdout",
     "output_type": "stream",
     "text": [
      "chavez\n"
     ]
    }
   ],
   "source": [
    "# Puedo asignar un valor a una posición de la lista\n",
    "aula[1] = 'chavez'\n",
    "print(aula[1])"
   ]
  },
  {
   "cell_type": "code",
   "execution_count": 29,
   "id": "5f83892b-7e52-4ca1-b8d9-f8d6c6035c2b",
   "metadata": {},
   "outputs": [
    {
     "data": {
      "text/plain": [
       "['Bernaloa', 'chavez', 'Gomez', 'Navarro']"
      ]
     },
     "execution_count": 29,
     "metadata": {},
     "output_type": "execute_result"
    }
   ],
   "source": [
    "# Mostramos ocomo dquedo\n",
    "aula"
   ]
  },
  {
   "cell_type": "code",
   "execution_count": 31,
   "id": "a8547ac3-1f56-495c-91de-a396f558e566",
   "metadata": {},
   "outputs": [
    {
     "data": {
      "text/plain": [
       "['Bernaloa', 'chavez', 'Gomez', 'Navarro', 'Hermitaño', 'Gomez']"
      ]
     },
     "execution_count": 31,
     "metadata": {},
     "output_type": "execute_result"
    }
   ],
   "source": [
    "# Para agregar un elemento utilizamos 'append'\n",
    "aula.append(\"Hermitaño\")\n",
    "aula.append(\"Gomez\")\n",
    "aula"
   ]
  },
  {
   "cell_type": "code",
   "execution_count": 35,
   "id": "9ce5bb18-3cde-454d-9991-5e4d7546bc41",
   "metadata": {},
   "outputs": [
    {
     "ename": "ValueError",
     "evalue": "list.remove(x): x not in list",
     "output_type": "error",
     "traceback": [
      "\u001b[1;31m---------------------------------------------------------------------------\u001b[0m",
      "\u001b[1;31mValueError\u001b[0m                                Traceback (most recent call last)",
      "Cell \u001b[1;32mIn[35], line 2\u001b[0m\n\u001b[0;32m      1\u001b[0m \u001b[38;5;66;03m# Para eliminarelementos utilizamos remove[]\u001b[39;00m\n\u001b[1;32m----> 2\u001b[0m aula\u001b[38;5;241m.\u001b[39mremove(\u001b[38;5;124m\"\u001b[39m\u001b[38;5;124mBernaloa\u001b[39m\u001b[38;5;124m\"\u001b[39m)\n\u001b[0;32m      3\u001b[0m aula\n",
      "\u001b[1;31mValueError\u001b[0m: list.remove(x): x not in list"
     ]
    }
   ],
   "source": [
    "# Para eliminarelementos utilizamos remove[]\n",
    "aula.remove(\"Bernaloa\")"
   ]
  },
  {
   "cell_type": "code",
   "execution_count": 37,
   "id": "db41c40d-b60f-435f-842b-76d1512bcbc7",
   "metadata": {},
   "outputs": [
    {
     "data": {
      "text/plain": [
       "['chavez', 'Gomez', 'Navarro', 'Hermitaño', 'Gomez']"
      ]
     },
     "execution_count": 37,
     "metadata": {},
     "output_type": "execute_result"
    }
   ],
   "source": [
    "aula"
   ]
  },
  {
   "cell_type": "code",
   "execution_count": 39,
   "id": "563708d8-1b17-4816-8ff8-e4e664459390",
   "metadata": {},
   "outputs": [],
   "source": [
    "# Si hubiera varios elementos de valores iguales se elimina la primera coincidencia\n",
    "aula.remove(\"Gomez\")"
   ]
  },
  {
   "cell_type": "code",
   "execution_count": 41,
   "id": "7ed779c9-2d7a-43f2-96d8-2f5f330c7e8b",
   "metadata": {},
   "outputs": [
    {
     "data": {
      "text/plain": [
       "['chavez', 'Navarro', 'Hermitaño', 'Gomez']"
      ]
     },
     "execution_count": 41,
     "metadata": {},
     "output_type": "execute_result"
    }
   ],
   "source": [
    "aula"
   ]
  },
  {
   "cell_type": "code",
   "execution_count": 43,
   "id": "0fec8783-ec11-4f93-a453-c054d782b77e",
   "metadata": {},
   "outputs": [
    {
     "data": {
      "text/plain": [
       "4"
      ]
     },
     "execution_count": 43,
     "metadata": {},
     "output_type": "execute_result"
    }
   ],
   "source": [
    "# Tamaño de lista\n",
    "len(aula)"
   ]
  },
  {
   "cell_type": "code",
   "execution_count": 45,
   "id": "d3363441-fc89-4879-b6a8-d95e1ff3f530",
   "metadata": {},
   "outputs": [
    {
     "name": "stdout",
     "output_type": "stream",
     "text": [
      "chavez\n",
      "Navarro\n",
      "Hermitaño\n",
      "Gomez\n"
     ]
    }
   ],
   "source": [
    "# Para recorrer podemos utilizr una etructura repetitiva\n",
    "for alumno in aula:\n",
    "    print(alumno)"
   ]
  },
  {
   "cell_type": "code",
   "execution_count": 47,
   "id": "b463ff0f-f091-46b6-886a-4049caf86808",
   "metadata": {},
   "outputs": [
    {
     "data": {
      "text/plain": [
       "['Gomez', 'Hermitaño', 'Navarro', 'chavez']"
      ]
     },
     "execution_count": 47,
     "metadata": {},
     "output_type": "execute_result"
    }
   ],
   "source": [
    "# Para invertir la lita usamos reverse()\n",
    "aula.reverse()\n",
    "aula"
   ]
  },
  {
   "cell_type": "code",
   "execution_count": 51,
   "id": "cec9bafe-4c3c-4cdb-b23b-4c5df72f08f7",
   "metadata": {},
   "outputs": [
    {
     "data": {
      "text/plain": [
       "['Gomez', 'Hermitaño', 'Navarro', 'chavez']"
      ]
     },
     "execution_count": 51,
     "metadata": {},
     "output_type": "execute_result"
    }
   ],
   "source": [
    "# Para ordenar\n",
    "aula.sort()\n",
    "aula"
   ]
  },
  {
   "cell_type": "code",
   "execution_count": 53,
   "id": "a45c09cf-8a4c-49ef-a344-293b2f52277b",
   "metadata": {},
   "outputs": [
    {
     "data": {
      "text/plain": [
       "('Bernaloa', 'Chipana', 'Gomez', 'Navarro')"
      ]
     },
     "execution_count": 53,
     "metadata": {},
     "output_type": "execute_result"
    }
   ],
   "source": [
    "# 1.2 TUPLAS\n",
    "# Es una colección de elementos ordenada() que no se pueden modificar, es inalterable.\n",
    "# No se pueden agregar elementos ni eliminar.\n",
    "# Se identifica por los parentisis\n",
    "tupla_aula = ('Bernaloa','Chipana','Gomez','Navarro')\n",
    "tupla_aula"
   ]
  },
  {
   "cell_type": "code",
   "execution_count": 55,
   "id": "993e78d9-16f2-4f4c-9a30-d2f6c8e4a54a",
   "metadata": {},
   "outputs": [
    {
     "data": {
      "text/plain": [
       "'Gomez'"
      ]
     },
     "execution_count": 55,
     "metadata": {},
     "output_type": "execute_result"
    }
   ],
   "source": [
    "# Se puede extraer un elemento por su posición\n",
    "tupla_aula[2]"
   ]
  },
  {
   "cell_type": "code",
   "execution_count": 57,
   "id": "2f0b2cf8-f7fe-4e88-bcb8-4bca76c58801",
   "metadata": {},
   "outputs": [
    {
     "data": {
      "text/plain": [
       "{'Bernaloa', 'Chipana', 'Gomez', 'Navarro'}"
      ]
     },
     "execution_count": 57,
     "metadata": {},
     "output_type": "execute_result"
    }
   ],
   "source": [
    "#1.3 Conjuntos\n",
    "# Es una colección de elementos que no está ordenado\n",
    "# (No tiene indice)\n",
    "conjunto_aula = {'Bernaloa','Chipana','Gomez','Navarro'}\n",
    "conjunto_aula"
   ]
  },
  {
   "cell_type": "code",
   "execution_count": 59,
   "id": "38138a8a-a19f-40b3-a7b4-b59b562dd29c",
   "metadata": {},
   "outputs": [
    {
     "name": "stdout",
     "output_type": "stream",
     "text": [
      "Chipana\n",
      "Navarro\n",
      "Gomez\n",
      "Bernaloa\n"
     ]
    }
   ],
   "source": [
    "#Se puede recorrer utilizando una estructura repetitiva\n",
    "#\n",
    "for alumno in conjunto_aula:\n",
    "    print(alumno)"
   ]
  },
  {
   "cell_type": "code",
   "execution_count": 71,
   "id": "6b8e261f-3d83-45c3-8115-ddd2d6fe617c",
   "metadata": {},
   "outputs": [],
   "source": [
    "# Observación: No se puede acceder por posición pues no se considera indexación\n",
    "# Por ejemplo:\n",
    "#conjunto_aula[2] devolvía error"
   ]
  },
  {
   "cell_type": "code",
   "execution_count": 73,
   "id": "6df98b9d-bb73-49e5-87e7-653dae24f766",
   "metadata": {},
   "outputs": [
    {
     "data": {
      "text/plain": [
       "4"
      ]
     },
     "execution_count": 73,
     "metadata": {},
     "output_type": "execute_result"
    }
   ],
   "source": [
    "# cantidad de elemenos\n",
    "len(conjunto_aula)"
   ]
  },
  {
   "cell_type": "code",
   "execution_count": 75,
   "id": "ab658fd3-ee14-49a1-97fa-efa2aed00ace",
   "metadata": {},
   "outputs": [
    {
     "data": {
      "text/plain": [
       "{'Bernaloa', 'Chipana', 'Gomez', 'Navarro', 'Palomino'}"
      ]
     },
     "execution_count": 75,
     "metadata": {},
     "output_type": "execute_result"
    }
   ],
   "source": [
    "# Para agregar utilizamos la funcion add()\n",
    "conjunto_aula.add(\"Palomino\")\n",
    "conjunto_aula"
   ]
  },
  {
   "cell_type": "code",
   "execution_count": 77,
   "id": "5a823d54-48e6-40d2-821b-91666e50be9b",
   "metadata": {},
   "outputs": [
    {
     "data": {
      "text/plain": [
       "{'Bernaloa', 'Gomez', 'Navarro', 'Palomino'}"
      ]
     },
     "execution_count": 77,
     "metadata": {},
     "output_type": "execute_result"
    }
   ],
   "source": [
    "#Para eliminar usamos remove()\n",
    "conjunto_aula.remove(\"Chipana\")\n",
    "conjunto_aula"
   ]
  },
  {
   "cell_type": "code",
   "execution_count": 79,
   "id": "2a9261a9-87f3-4257-a628-4d5bf5b63a23",
   "metadata": {},
   "outputs": [
    {
     "data": {
      "text/plain": [
       "{2: 'Bernaola',\n",
       " '1': 'Chipana',\n",
       " 'dos': 'Gomez ',\n",
       " '3': 'Navarro',\n",
       " '0': 'Palomino'}"
      ]
     },
     "execution_count": 79,
     "metadata": {},
     "output_type": "execute_result"
    }
   ],
   "source": [
    "# 1.4 Diccionarios\n",
    "# Es una coleccion de elementos, que están indexados,\n",
    "# no están ordenados y se pueden modificar\n",
    "# Son escritos entre llaves y están formados por pares de elementos\n",
    "# INDICE:VALOR\n",
    "diccionario_aula = {2:'Bernaola','1':'Chipana','dos':'Gomez ', '3':'Navarro', '0':'Palomino'}\n",
    "diccionario_aula"
   ]
  },
  {
   "cell_type": "code",
   "execution_count": 81,
   "id": "56d13863-5dcf-4544-b4c1-6b43e32feb00",
   "metadata": {},
   "outputs": [
    {
     "data": {
      "text/plain": [
       "{2: 'Bernaola',\n",
       " '1': 'Chipana',\n",
       " 'dos': 'Gomez ',\n",
       " '3': 'Navarro',\n",
       " '0': 'Palomino',\n",
       " '20': 'Vilca'}"
      ]
     },
     "execution_count": 81,
     "metadata": {},
     "output_type": "execute_result"
    }
   ],
   "source": [
    "# Para añadir un par de elementos al diccionario hacemos:\n",
    "diccionario_aula['20'] = \"Vilca\"\n",
    "diccionario_aula"
   ]
  },
  {
   "cell_type": "code",
   "execution_count": 83,
   "id": "78d921ac-0a34-4299-99a5-3120bcdd1eb2",
   "metadata": {},
   "outputs": [
    {
     "data": {
      "text/plain": [
       "{'1': 'Chipana',\n",
       " 'dos': 'Gomez ',\n",
       " '3': 'Navarro',\n",
       " '0': 'Palomino',\n",
       " '20': 'Vilca'}"
      ]
     },
     "execution_count": 83,
     "metadata": {},
     "output_type": "execute_result"
    }
   ],
   "source": [
    "#Para eliminar un valor se utiliza pop()\n",
    "# Por ejemplos, eliminar el elemento de indice dos. \n",
    "diccionario_aula.pop(2)\n",
    "diccionario_aula"
   ]
  },
  {
   "cell_type": "code",
   "execution_count": 85,
   "id": "d3d8287b-2127-4139-9eeb-3e8591e132b5",
   "metadata": {},
   "outputs": [
    {
     "data": {
      "text/plain": [
       "{'1': 'Chipana', '3': 'Navarro', '0': 'Palomino', '20': 'Vilca'}"
      ]
     },
     "execution_count": 85,
     "metadata": {},
     "output_type": "execute_result"
    }
   ],
   "source": [
    "# TAMBIEN eliminamos utilizando del()\n",
    "del(diccionario_aula[\"dos\"])\n",
    "diccionario_aula"
   ]
  },
  {
   "cell_type": "code",
   "execution_count": 87,
   "id": "ad4be721-763f-4072-a90c-83f604b53cc0",
   "metadata": {},
   "outputs": [
    {
     "name": "stdout",
     "output_type": "stream",
     "text": [
      "1\n",
      "3\n",
      "0\n",
      "20\n"
     ]
    }
   ],
   "source": [
    "#Para recorrer todos los elemenos podemos utilizar for\n",
    "# En este ejemplo devuelve los indices\n",
    "for indice in diccionario_aula:\n",
    "    print(indice)"
   ]
  },
  {
   "cell_type": "code",
   "execution_count": 89,
   "id": "67907c91-c77e-4775-96d1-5a0f732c8fe0",
   "metadata": {},
   "outputs": [
    {
     "name": "stdout",
     "output_type": "stream",
     "text": [
      "1 Chipana\n",
      "3 Navarro\n",
      "0 Palomino\n",
      "20 Vilca\n"
     ]
    }
   ],
   "source": [
    "# Para obtener el indice y el valor de cada elemento utilizamos items()\n",
    "for indice, valor in diccionario_aula.items():\n",
    "    print(indice,valor)"
   ]
  },
  {
   "cell_type": "code",
   "execution_count": 130,
   "id": "662d1fc9-ce5e-405f-a79f-4b4ecb4eb09d",
   "metadata": {},
   "outputs": [
    {
     "name": "stdin",
     "output_type": "stream",
     "text": [
      "Ingrese un dato:  wa\n"
     ]
    },
    {
     "name": "stdout",
     "output_type": "stream",
     "text": [
      "Nola\n"
     ]
    },
    {
     "name": "stdin",
     "output_type": "stream",
     "text": [
      "Ingrese un dato:  BERNAL\n"
     ]
    },
    {
     "name": "stdout",
     "output_type": "stream",
     "text": [
      "Se encontro\n"
     ]
    }
   ],
   "source": [
    "#Ejercicio: \n",
    "# 1.5. Ejercicio # Dado una lista de [BERNAL, BERNAOLA,\n",
    "# CABALLERO, CALDERON, CARRASCO, CENTENO, CHALQUE, CHAVEZ, CONDORI, CRUZ,\n",
    "# PALACIOS, PALOMINO, QUISPE, RAMOS, RODAS, SILVERA, TALAVERA, TINEO, VICTORIO, VILCA, ZEA]\n",
    "# Diseñar un código que muestre si el apellido de un estudiante (Ingresado por teclado) forma parte de la lista # tiempo: 12 minutos\n",
    "\n",
    "lista_aula = ['BERNAL', 'BERNAOLA',\n",
    "'CABALLERO', 'CALDERON', 'CARRASCO', 'CENTENO', 'CHALQUE', 'CHAVEZ', 'CONDORI', 'CRUZ',\n",
    "'PALACIOS', 'PALOMINO', 'QUISPE', 'RAMOS', 'RODAS', 'SILVERA', 'TALAVERA', 'TINEO', 'VICTORIO', 'VILCA', 'ZEA']\n",
    "\n",
    "\n",
    "\n",
    "\n",
    "while True :\n",
    "    busca = input(\"Ingrese un dato: \")\n",
    "    if busca in lista_aula:\n",
    "        print(\"Se encontro\")\n",
    "        break\n",
    "    else:\n",
    "        print(\"Nola\")"
   ]
  }
 ],
 "metadata": {
  "kernelspec": {
   "display_name": "Python [conda env:base] *",
   "language": "python",
   "name": "conda-base-py"
  },
  "language_info": {
   "codemirror_mode": {
    "name": "ipython",
    "version": 3
   },
   "file_extension": ".py",
   "mimetype": "text/x-python",
   "name": "python",
   "nbconvert_exporter": "python",
   "pygments_lexer": "ipython3",
   "version": "3.12.7"
  }
 },
 "nbformat": 4,
 "nbformat_minor": 5
}
